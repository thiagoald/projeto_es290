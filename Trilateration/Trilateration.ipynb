{
 "cells": [
  {
   "cell_type": "markdown",
   "metadata": {},
   "source": [
    "TRILATERAÇÃO: \n",
    "\n",
    "* https://gis.stackexchange.com/questions/66/trilateration-using-3-latitude-longitude-points-and-3-distances\n",
    "* https://en.wikipedia.org/wiki/Trilateration\n"
   ]
  },
  {
   "cell_type": "code",
   "execution_count": 67,
   "metadata": {},
   "outputs": [],
   "source": [
    "# Latitude, Longitudes   Distancia\n",
    "#\n",
    "# 37.418436,-121.963477   0.265710701754km\n",
    "# 37.417243,-121.961889   0.234592423446km\n",
    "# 37.418692,-121.960194   0.0548954278262km\n",
    "\n",
    "latA = 37.418436 \n",
    "lonA = -121.963477\n",
    "distA = 0.265710701754\n",
    "\n",
    "latB = 37.417243\n",
    "lonB = -121.961889\n",
    "distB = 0.234592423446\n",
    "\n",
    "latC = 37.418692\n",
    "lonC = -121.960194\n",
    "distC = 0.0548954278262\n",
    "\n",
    "earthRadius = 6371"
   ]
  },
  {
   "cell_type": "code",
   "execution_count": 60,
   "metadata": {},
   "outputs": [],
   "source": [
    "# Converter em coordenadas cartesianas\n",
    "\n",
    "\n",
    "# Convertendo LAt/Long para ECEF (Earth-Centered, Earth-Fixed) - Sistema de coordenadas cartesiano geocentrico\n",
    "#    1. Converte Lat/Long para radianos\n",
    "#    2. Converte Lat/Long (em radianos) para ECEF\n",
    "\n",
    "\n",
    "import math, numpy\n",
    "\n",
    "xA = earthRadius * (math.cos( math.radians( latA )) * math.cos( math.radians( lonA )))\n",
    "yA = earthRadius * (math.cos( math.radians( latA )) * math.sin( math.radians( latA )))\n",
    "zA = earthRadius * (math.sin(math.radians(latA)))                           \n",
    "\n",
    "xB = earthRadius * (math.cos( math.radians( latB )) * math.cos( math.radians( lonB )))\n",
    "yB = earthRadius * (math.cos( math.radians( latB )) * math.sin( math.radians( latB )))\n",
    "zB = earthRadius * (math.sin(math.radians(latB)))\n",
    "\n",
    "xC = earthRadius * (math.cos( math.radians( latC )) * math.cos( math.radians( lonC )))\n",
    "yC = earthRadius * (math.cos( math.radians( latC )) * math.sin( math.radians( latC )))\n",
    "zC = earthRadius * (math.sin(math.radians(latC)))\n",
    "\n",
    "P1 = numpy.array([xA, yA, zA])\n",
    "P2 = numpy.array([xB, yB, zB])\n",
    "P3 = numpy.array([xC, yC, zC])"
   ]
  },
  {
   "cell_type": "code",
   "execution_count": 61,
   "metadata": {},
   "outputs": [],
   "source": [
    "# A partir do algorítmo da wikipédia\n",
    "#       Transforma o centro da espera P1 na origem\n",
    "#       Tranforma o centro da esfera P2 no eixo x\n",
    "\n",
    "\n",
    "ex = (P2 - P1) / (numpy.linalg.norm(P2 - P1))       # Vetor unitário da direção de P1 para P2\n",
    "i = numpy.dot(ex, P3 - P1)                          # Magnitude do sinal da componente x, do vetor de P1 para P3 \n",
    "ey = (P3 - P1 - i*ex) / (numpy.linalg.norm(P3 - P1 - i*ex))     # Vetor unitário da direção de y \n",
    "ez = numpy.cross(ex, ey)                                        # ez é o produto cartesiano entre (ex) x (ey)\n",
    " \n",
    "d = numpy.linalg.norm(P2 - P1)         # distância entre os centros de P1 (0,0) e P2(d,0) \n",
    "j = numpy.dot(ey, P3 - P1)             # magnitude do sinal da componente y, do vetro de P1 para P3"
   ]
  },
  {
   "cell_type": "code",
   "execution_count": 62,
   "metadata": {},
   "outputs": [],
   "source": [
    "x = ( pow(distA, 2) - pow(distB, 2) + pow(d, 2)) / (2*d)                          # x = ((r1^2 - r2^2 + d^2)^2) / (4d^2)\n",
    "y = ((pow(distA, 2) - pow(distC, 2) + pow(i, 2) + pow(j,2)) / (2*j)) - ((i/j)*x)  # y = (r1^2 - r3^2 + i^2 +j^2)/2j - (i/j)x\n",
    "z = numpy.sqrt(pow(distA, 2) - pow(x, 2) - pow(y, 2))                             # z = +-sqrt(r1^2 - x^2 - y^2)"
   ]
  },
  {
   "cell_type": "code",
   "execution_count": 65,
   "metadata": {},
   "outputs": [],
   "source": [
    "# TriPt é um array com os pontos x,y e z em ECEF, ponto de trilateração utilizado para fazer a conversão para lat/long\n",
    "\n",
    "triPt = P1 + x*ex + y*ey + z*ez"
   ]
  },
  {
   "cell_type": "code",
   "execution_count": 66,
   "metadata": {},
   "outputs": [
    {
     "name": "stdout",
     "output_type": "stream",
     "text": [
      "37.41891042570941 131.06058364995576\n"
     ]
    }
   ],
   "source": [
    "# Converte de ECEF para lat/long e converte em graus\n",
    "\n",
    "lat = math.degrees(math.asin(triPt[2] / earthRadius))\n",
    "lon = math.degrees(math.atan2(triPt[1], triPt[0]))\n",
    "\n",
    "print (lat, lon)"
   ]
  },
  {
   "cell_type": "code",
   "execution_count": null,
   "metadata": {},
   "outputs": [],
   "source": []
  }
 ],
 "metadata": {
  "kernelspec": {
   "display_name": "Python 3",
   "language": "python",
   "name": "python3"
  },
  "language_info": {
   "codemirror_mode": {
    "name": "ipython",
    "version": 3
   },
   "file_extension": ".py",
   "mimetype": "text/x-python",
   "name": "python",
   "nbconvert_exporter": "python",
   "pygments_lexer": "ipython3",
   "version": "3.6.5"
  }
 },
 "nbformat": 4,
 "nbformat_minor": 2
}
