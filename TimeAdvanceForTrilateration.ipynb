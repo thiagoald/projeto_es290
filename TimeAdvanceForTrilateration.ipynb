{
 "cells": [
  {
   "cell_type": "code",
   "execution_count": 50,
   "metadata": {},
   "outputs": [
    {
     "data": {
      "text/html": [
       "<div style=\"width:100%;\"><div style=\"position:relative;width:100%;height:0;padding-bottom:60%;\"><iframe src=\"data:text/html;charset=utf-8;base64,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\" style=\"position:absolute;width:100%;height:100%;left:0;top:0;border:none !important;\" allowfullscreen webkitallowfullscreen mozallowfullscreen></iframe></div></div>"
      ],
      "text/plain": [
       "<folium.folium.Map at 0x3cce850a90>"
      ]
     },
     "execution_count": 50,
     "metadata": {},
     "output_type": "execute_result"
    }
   ],
   "source": [
    "from importlib import reload\n",
    "import folium\n",
    "import pandas as pd\n",
    "import numpy as np\n",
    "from sklearn import linear_model\n",
    "import matplotlib.pyplot as plt\n",
    "import src.localization as localization\n",
    "reload(localization)\n",
    "from src.localization import read_data\n",
    "from src.localization import get_distance_in_meters\n",
    "positions, df = read_data('resources/data/LocTreino_Equipe_2.csv')\n",
    "bts_positions, df_btss = read_data('resources/data/dados_BTSs.csv')\n",
    "center_lat = np.mean([lat for lat in bts_positions[:, 0]])\n",
    "center_lon = np.mean([lon for lon in bts_positions[:, 1]])\n",
    "original_pts_map = folium.Map(location=[center_lat, center_lon],\n",
    "                              zoom_start=15,\n",
    "                              tiles='CartoDB dark_matter')\n",
    "# Plot BTSs locations\n",
    "for location in bts_positions:\n",
    "    marker = folium.Marker(location=location)\n",
    "    marker.add_to(original_pts_map)\n",
    "\n",
    "# Export map\n",
    "original_pts_map.save(\"resources/maps/original_pts_map.html\")\n",
    "\n",
    "# Show map\n",
    "original_pts_map"
   ]
  },
  {
   "cell_type": "code",
   "execution_count": 51,
   "metadata": {},
   "outputs": [
    {
     "name": "stdout",
     "output_type": "stream",
     "text": [
      "-8.076634\n",
      "-34.899639\n"
     ]
    },
    {
     "data": {
      "text/plain": [
       "[[111.29, 1.0, 1],\n",
       " [122.556666666667, 2.0, 0],\n",
       " [126.59, 1.0, 2],\n",
       " [130.623333333333, 1.0, 3],\n",
       " [132.656666666667, 2.0, 4],\n",
       " [140.056666666667, 2.0, 5]]"
      ]
     },
     "execution_count": 51,
     "metadata": {},
     "output_type": "execute_result"
    }
   ],
   "source": [
    "from operator import itemgetter, attrgetter\n",
    "\n",
    "instance = df.iloc[[0]]\n",
    "#In this Step, we will select the bts with the least pathloss, it means that the ms is probably near\n",
    "#\n",
    "bts1 = list(instance[['pathBTS1','taBTS1']].values)\n",
    "bts2 = list(instance[['pathBTS2','taBTS2']].values)\n",
    "bts3 = list(instance[['pathBTS3','taBTS3']].values)\n",
    "bts4 = list(instance[['pathBTS4','taBTS4']].values)\n",
    "bts5 = list(instance[['pathBTS5','taBTS5']].values)\n",
    "bts6 = list(instance[['pathBTS6','taBTS6']].values)\n",
    "#\n",
    "#\n",
    "bts_infos = [bts1,bts2,bts3,bts4,bts5,bts6]\n",
    "#bts_infos.sort(key=lambda x: x[0])\n",
    "\n",
    "lat_instance = instance['lat'].values[0]\n",
    "lon_instance = instance['lon'].values[0]\n",
    "print(lat_instance)\n",
    "print(lon_instance)\n",
    "\n",
    "#some_list = [(1,2),(2),(5),(3),(4),(7),(0)]\n",
    "#some_list.sort()\n",
    "#some_list\n",
    "#bts_infos\n",
    "bts_by_pathloss = [\n",
    "       [bts1[0][0],bts1[0][1],0],\n",
    "       [bts2[0][0],bts2[0][1],1],\n",
    "       [bts3[0][0],bts3[0][1],2],\n",
    "       [bts4[0][0],bts4[0][1],3],\n",
    "       [bts5[0][0],bts5[0][1],4],\n",
    "       [bts6[0][0],bts6[0][1],5]]\n",
    "bts_sorted = sorted(bts_by_pathloss,key=itemgetter(0))\n",
    "bts_sorted"
   ]
  },
  {
   "cell_type": "code",
   "execution_count": 52,
   "metadata": {},
   "outputs": [
    {
     "name": "stdout",
     "output_type": "stream",
     "text": [
      "-8.075916667000001\n",
      "-34.894611110999996\n",
      "-8.068361111\n",
      "-34.892722221999996\n",
      "-8.076361111\n",
      "-34.908\n",
      "1100.0\n",
      "1650.0\n",
      "1100.0\n"
     ]
    },
    {
     "data": {
      "text/html": [
       "<div style=\"width:100%;\"><div style=\"position:relative;width:100%;height:0;padding-bottom:60%;\"><iframe src=\"data:text/html;charset=utf-8;base64,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\" style=\"position:absolute;width:100%;height:100%;left:0;top:0;border:none !important;\" allowfullscreen webkitallowfullscreen mozallowfullscreen></iframe></div></div>"
      ],
      "text/plain": [
       "<folium.folium.Map at 0x3cce850a90>"
      ]
     },
     "execution_count": 52,
     "metadata": {},
     "output_type": "execute_result"
    }
   ],
   "source": [
    "time_advance = bts_sorted[0][1]\n",
    "min_radius = (time_advance) * 550\n",
    "radiusA = (time_advance + 1) * 550\n",
    "\n",
    "\n",
    "bts_index = bts_sorted[0][2] #Select the nearest bts index\n",
    "latA = df_btss['lat'][bts_index]\n",
    "lonA = df_btss['lon'][bts_index]\n",
    "\n",
    "print(latA)\n",
    "print(lonA)\n",
    "\n",
    "\n",
    "time_advance = bts_sorted[1][1]\n",
    "min_radius = (time_advance) * 550\n",
    "radiusB = (time_advance + 1) * 550\n",
    "\n",
    "\n",
    "bts_index = bts_sorted[1][2] #Select the nearest bts index\n",
    "latB = df_btss['lat'][bts_index]\n",
    "lonB = df_btss['lon'][bts_index]\n",
    "\n",
    "print(latB)\n",
    "print(lonB)\n",
    "\n",
    "time_advance = bts_sorted[2][1]\n",
    "min_radius = (time_advance) * 550\n",
    "radiusC = (time_advance + 1) * 550\n",
    "\n",
    "\n",
    "bts_index = bts_sorted[2][2] #Select the nearest bts index\n",
    "latC = df_btss['lat'][bts_index]\n",
    "lonC = df_btss['lon'][bts_index]\n",
    "\n",
    "print(latC)\n",
    "print(lonC)\n",
    "\n",
    "\n",
    "#distance = get_distance_in_meters(lat_bts,lon_bts,-8.06500,-34.900)\n",
    "\n",
    "#if(distance <=max_radius and distance > min_radius):\n",
    "#    print('A distância é de {} metros Está dentro do range previsto'.format(distance))\n",
    "#marker = folium.Circle(location=(lat_bts,lon_bts),color='blue',weight=1,radius=distance)\n",
    "#marker.add_to(original_pts_map)\n",
    "\n",
    "icon_p = folium.Icon(color='white',icon_color='green')\n",
    "marker = folium.Circle(location=(latA,lonA),color='green',weight=1,radius=radiusA)\n",
    "marker.add_to(original_pts_map)\n",
    "\n",
    "marker = folium.Circle(location=(latB,lonB),color='green',weight=1,radius=radiusB)\n",
    "marker.add_to(original_pts_map)\n",
    "\n",
    "marker = folium.Circle(location=(latC,lonC),color='green',weight=1,radius=radiusC)\n",
    "marker.add_to(original_pts_map)\n",
    "\n",
    "marker = folium.Marker(location=(lat_instance,lon_instance),popup='teste',tooltip='celular',icon=icon_p)\n",
    "marker.add_to(original_pts_map)\n",
    "\n",
    "print(radiusA)\n",
    "print(radiusB)\n",
    "print(radiusC)\n",
    "\n",
    "original_pts_map"
   ]
  },
  {
   "cell_type": "code",
   "execution_count": null,
   "metadata": {},
   "outputs": [],
   "source": []
  },
  {
   "cell_type": "markdown",
   "metadata": {},
   "source": [
    "Applying Trilateration\n",
    "=="
   ]
  },
  {
   "cell_type": "code",
   "execution_count": 53,
   "metadata": {},
   "outputs": [
    {
     "name": "stdout",
     "output_type": "stream",
     "text": [
      "1100.0\n",
      "1650.0\n",
      "1100.0\n",
      "1.1\n",
      "1.65\n",
      "1.1\n",
      "-8.079371644026969 -34.90122967471589\n"
     ]
    },
    {
     "data": {
      "text/plain": [
       "<folium.map.Marker at 0x3ccec17cc0>"
      ]
     },
     "execution_count": 53,
     "metadata": {},
     "output_type": "execute_result"
    }
   ],
   "source": [
    "earthRadius = 6371\n",
    "print(radiusA)\n",
    "print(radiusB)\n",
    "print(radiusC)\n",
    "\n",
    "#distA = distA / 1000\n",
    "#distB = distB / 1000\n",
    "#distC = distC / 1000\n",
    "distA = radiusA/1000\n",
    "distB = radiusB/1000\n",
    "distC = radiusC/1000\n",
    "\n",
    "print(distA)\n",
    "print(distB)\n",
    "print(distC)\n",
    "\n",
    "import math, numpy\n",
    "\n",
    "xA = earthRadius * (math.cos( math.radians( latA )) * math.cos( math.radians( lonA )))\n",
    "yA = earthRadius * (math.cos( math.radians( latA )) * math.sin( math.radians( lonA )))\n",
    "zA = earthRadius * (math.sin(math.radians(latA)))                           \n",
    "\n",
    "xB = earthRadius * (math.cos( math.radians( latB )) * math.cos( math.radians( lonB )))\n",
    "yB = earthRadius * (math.cos( math.radians( latB )) * math.sin( math.radians( lonB )))\n",
    "zB = earthRadius * (math.sin(math.radians(latB)))\n",
    "\n",
    "xC = earthRadius * (math.cos( math.radians( latC )) * math.cos( math.radians( lonC )))\n",
    "yC = earthRadius * (math.cos( math.radians( latC )) * math.sin( math.radians( lonC )))\n",
    "zC = earthRadius * (math.sin(math.radians(latC)))\n",
    "\n",
    "P1 = numpy.array([xA, yA, zA])\n",
    "P2 = numpy.array([xB, yB, zB])\n",
    "P3 = numpy.array([xC, yC, zC])\n",
    "\n",
    "# A partir do algorítmo da wikipédia\n",
    "#       Transforma o centro da espera P1 na origem\n",
    "#       Tranforma o centro da esfera P2 no eixo x\n",
    "\n",
    "\n",
    "ex = (P2 - P1) / (numpy.linalg.norm(P2 - P1))       # Vetor unitário da direção de P1 para P2\n",
    "i = numpy.dot(ex, P3 - P1)                          # Magnitude do sinal da componente x, do vetor de P1 para P3 \n",
    "ey = (P3 - P1 - i*ex) / (numpy.linalg.norm(P3 - P1 - i*ex))     # Vetor unitário da direção de y \n",
    "ez = numpy.cross(ex, ey)                                        # ez é o produto cartesiano entre (ex) x (ey)\n",
    " \n",
    "d = numpy.linalg.norm(P2 - P1)         # distância entre os centros de P1 (0,0) e P2(d,0) \n",
    "j = numpy.dot(ey, P3 - P1)             # magnitude do sinal da componente y, do vetro de P1 para P3\n",
    "\n",
    "x = ( pow(distA, 2) - pow(distB, 2) + pow(d, 2)) / (2*d)                          # x = ((r1^2 - r2^2 + d^2)^2) / (4d^2)\n",
    "y = ((pow(distA, 2) - pow(distC, 2) + pow(i, 2) + pow(j,2)) / (2*j)) - ((i/j)*x)  # y = (r1^2 - r3^2 + i^2 +j^2)/2j - (i/j)x\n",
    "z = numpy.sqrt(pow(distA, 2) - pow(x, 2) - pow(y, 2))                             # z = +-sqrt(r1^2 - x^2 - y^2)\n",
    "\n",
    "# TriPt é um array com os pontos x,y e z em ECEF, ponto de trilateração utilizado para fazer a conversão para lat/long\n",
    "\n",
    "triPt = P1 + x*ex + y*ey + z*ez\n",
    "\n",
    "# Converte de ECEF para lat/long e converte em graus\n",
    "\n",
    "lat = math.degrees(math.asin(triPt[2] / earthRadius))\n",
    "lon = math.degrees(math.atan2(triPt[1], triPt[0]))\n",
    "\n",
    "print (lat, lon)\n",
    "icon_predicted = folium.Icon(color='white',icon_color='blue')\n",
    "marker = folium.Marker(location=(lat,lon),popup='Predicted Point',tooltip='Ponto Predito',icon=icon_predicted)\n",
    "marker.add_to(original_pts_map)"
   ]
  },
  {
   "cell_type": "code",
   "execution_count": 54,
   "metadata": {},
   "outputs": [
    {
     "data": {
      "text/html": [
       "<div style=\"width:100%;\"><div style=\"position:relative;width:100%;height:0;padding-bottom:60%;\"><iframe src=\"data:text/html;charset=utf-8;base64,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\" style=\"position:absolute;width:100%;height:100%;left:0;top:0;border:none !important;\" allowfullscreen webkitallowfullscreen mozallowfullscreen></iframe></div></div>"
      ],
      "text/plain": [
       "<folium.folium.Map at 0x3cce850a90>"
      ]
     },
     "execution_count": 54,
     "metadata": {},
     "output_type": "execute_result"
    }
   ],
   "source": [
    "original_pts_map"
   ]
  },
  {
   "cell_type": "code",
   "execution_count": null,
   "metadata": {},
   "outputs": [],
   "source": []
  }
 ],
 "metadata": {
  "kernelspec": {
   "display_name": "Python 3",
   "language": "python",
   "name": "python3"
  },
  "language_info": {
   "codemirror_mode": {
    "name": "ipython",
    "version": 3
   },
   "file_extension": ".py",
   "mimetype": "text/x-python",
   "name": "python",
   "nbconvert_exporter": "python",
   "pygments_lexer": "ipython3",
   "version": "3.6.4"
  }
 },
 "nbformat": 4,
 "nbformat_minor": 2
}
